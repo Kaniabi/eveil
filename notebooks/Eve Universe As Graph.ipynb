{
 "cells": [
  {
   "cell_type": "code",
   "execution_count": 1,
   "metadata": {},
   "outputs": [],
   "source": [
    "import json\n",
    "from collections import namedtuple, OrderedDict\n",
    "\n",
    "class Universe(object):\n",
    "\n",
    "    FILENAME = 'universe-pretty.json'\n",
    "    \n",
    "    Node = namedtuple('Node', 'x y z'.split())\n",
    "    \n",
    "    def __init__(self):\n",
    "        _universe = json.load(open(self.FILENAME, 'r'))\n",
    "        self._solar_systems = OrderedDict()\n",
    "        for i in _universe['solarSystems']:\n",
    "            self._solar_systems[i['id']] = i\n",
    "        self._jumps = _universe['jumps']\n",
    "        \n",
    "        self._nodes = OrderedDict()\n",
    "        for i_id, i_solar_system in self._solar_systems.items():\n",
    "            self._nodes[i_id] = self.Node(x=i_solar_system['x'], y=i_solar_system['y'], z=i_solar_system['z'])\n",
    "    \n",
    "    def nodes_coords(self, coord):\n",
    "        return [i[coord] for i in self._solar_systems.values()]\n",
    "\n",
    "    def edges_coords(self, coord):\n",
    "        result = []\n",
    "        for i_jump in self._jumps:\n",
    "            from_node = self._nodes[i_jump['from']]\n",
    "            to_node = self._nodes[i_jump['to']]\n",
    "            result += [getattr(from_node, coord), getattr(to_node, coord), None]\n",
    "        return result"
   ]
  },
  {
   "cell_type": "code",
   "execution_count": 14,
   "metadata": {},
   "outputs": [],
   "source": [
    "import networkx as nx\n",
    "\n",
    "universe = Universe()\n",
    "\n",
    "g = nx.Graph()\n",
    "g.add_nodes_from(universe._nodes.keys())\n",
    "g.add_edges_from([(i['from'], i['to']) for i in universe._jumps])"
   ]
  },
  {
   "cell_type": "code",
   "execution_count": 15,
   "metadata": {},
   "outputs": [
    {
     "ename": "KeyboardInterrupt",
     "evalue": "",
     "output_type": "error",
     "traceback": [
      "\u001b[0;31m---------------------------------------------------------------------------\u001b[0m",
      "\u001b[0;31mKeyboardInterrupt\u001b[0m                         Traceback (most recent call last)",
      "\u001b[0;32m<ipython-input-15-77cc466a8632>\u001b[0m in \u001b[0;36m<module>\u001b[0;34m()\u001b[0m\n\u001b[1;32m     13\u001b[0m     \u001b[0;36m30000001\u001b[0m\u001b[0;34m,\u001b[0m\u001b[0;34m\u001b[0m\u001b[0m\n\u001b[1;32m     14\u001b[0m )\n\u001b[0;32m---> 15\u001b[0;31m \u001b[0mlist\u001b[0m\u001b[0;34m(\u001b[0m\u001b[0mr\u001b[0m\u001b[0;34m)\u001b[0m\u001b[0;34m\u001b[0m\u001b[0m\n\u001b[0m",
      "\u001b[0;32m~/.virtualenvs/eve/lib/python3.5/site-packages/networkx/algorithms/simple_paths.py\u001b[0m in \u001b[0;36mshortest_simple_paths\u001b[0;34m(G, source, target, weight)\u001b[0m\n\u001b[1;32m    365\u001b[0m                 \u001b[0mroot_length\u001b[0m \u001b[0;34m=\u001b[0m \u001b[0mlength_func\u001b[0m\u001b[0;34m(\u001b[0m\u001b[0mroot\u001b[0m\u001b[0;34m)\u001b[0m\u001b[0;34m\u001b[0m\u001b[0m\n\u001b[1;32m    366\u001b[0m                 \u001b[0;32mfor\u001b[0m \u001b[0mpath\u001b[0m \u001b[0;32min\u001b[0m \u001b[0mlistA\u001b[0m\u001b[0;34m:\u001b[0m\u001b[0;34m\u001b[0m\u001b[0m\n\u001b[0;32m--> 367\u001b[0;31m                     \u001b[0;32mif\u001b[0m \u001b[0mpath\u001b[0m\u001b[0;34m[\u001b[0m\u001b[0;34m:\u001b[0m\u001b[0mi\u001b[0m\u001b[0;34m]\u001b[0m \u001b[0;34m==\u001b[0m \u001b[0mroot\u001b[0m\u001b[0;34m:\u001b[0m\u001b[0;34m\u001b[0m\u001b[0m\n\u001b[0m\u001b[1;32m    368\u001b[0m                         \u001b[0mignore_edges\u001b[0m\u001b[0;34m.\u001b[0m\u001b[0madd\u001b[0m\u001b[0;34m(\u001b[0m\u001b[0;34m(\u001b[0m\u001b[0mpath\u001b[0m\u001b[0;34m[\u001b[0m\u001b[0mi\u001b[0m \u001b[0;34m-\u001b[0m \u001b[0;36m1\u001b[0m\u001b[0;34m]\u001b[0m\u001b[0;34m,\u001b[0m \u001b[0mpath\u001b[0m\u001b[0;34m[\u001b[0m\u001b[0mi\u001b[0m\u001b[0;34m]\u001b[0m\u001b[0;34m)\u001b[0m\u001b[0;34m)\u001b[0m\u001b[0;34m\u001b[0m\u001b[0m\n\u001b[1;32m    369\u001b[0m                 \u001b[0;32mtry\u001b[0m\u001b[0;34m:\u001b[0m\u001b[0;34m\u001b[0m\u001b[0m\n",
      "\u001b[0;31mKeyboardInterrupt\u001b[0m: "
     ]
    }
   ],
   "source": [
    "import eveil\n",
    "\n",
    "# Sheroo\n",
    "# Cistuvaert\n",
    "# Ethernity\n",
    "# Vay\n",
    "# Azer\n",
    "# Clellinon\n",
    "# Jita\n",
    "\n",
    "# r = nx.shortest_simple_paths(\n",
    "#     g,\n",
    "#     eveil.System('Sosh').system_id,\n",
    "#     eveil.System('Sheroo').system_id,\n",
    "# )\n",
    "# list(r)\n",
    "\n",
    "r = nx.shortest_simple_paths(\n",
    "    g,\n",
    "    30000003,\n",
    "    30000001,\n",
    ")\n",
    "list(r)"
   ]
  },
  {
   "cell_type": "code",
   "execution_count": 5,
   "metadata": {},
   "outputs": [
    {
     "name": "stdout",
     "output_type": "stream",
     "text": [
      "JUMPS COUNT: 13826\n"
     ]
    }
   ],
   "source": [
    "# Create a graph with all solar-systems in the Universe.\n",
    "universe = Universe()\n",
    "\n",
    "print('JUMPS COUNT:', len(universe._jumps))\n",
    "\n",
    "regions = set()\n",
    "regions_connections = set()\n",
    "for i_jump in universe._jumps:\n",
    "    from_system = universe._solar_systems[i_jump['from']]\n",
    "    to_system = universe._solar_systems[i_jump['to']]\n",
    "    from_region = from_system['region']\n",
    "    to_region = to_system['region']\n",
    "    if from_region != to_region:\n",
    "        regions.add(from_region)\n",
    "        regions.add(to_region)\n",
    "        regions_connections.add(tuple(sorted([from_region, to_region])))\n",
    "\n",
    "# for i_from, i_to in sorted(regions_connections):\n",
    "#     print('CONNECTED REGIONS:', i_from, 'TO', i_to)\n",
    "\n",
    "import networkx as nx\n",
    "regions_graph = nx.Graph()\n",
    "regions_graph.add_nodes_from(regions)\n",
    "for i_region_connection in regions_connections:\n",
    "    regions_graph.add_edge(*i_region_connection)\n",
    "\n",
    "# nx.write_yaml(regions_graph, 'regions.yaml')\n",
    "    \n",
    "# nearby = nx.shortest_path_length(regions_graph, 'The Forge')\n",
    "# nearby = [(j, i) for i,j in nearby.items()]\n",
    "# nearby.sort()\n",
    "# nearby"
   ]
  },
  {
   "cell_type": "code",
   "execution_count": 18,
   "metadata": {},
   "outputs": [],
   "source": [
    "from plotly.graph_objs import Scatter3d, Line, Data, Figure, Layout, Marker\n",
    "from plotly import offline\n",
    "\n",
    "offline.init_notebook_mode(connected=True)\n",
    "\n",
    "universe = Universe()\n",
    "\n",
    "# Nodesd\n",
    "nodes_data = Scatter3d(\n",
    "    x=universe.nodes_coords('x'),\n",
    "    y=universe.nodes_coords('y'),\n",
    "    z=universe.nodes_coords('z'),\n",
    "    mode='markers',\n",
    "    marker=Marker(symbol='dot', color='#3333FF', size=3),\n",
    "    hoverinfo='none',\n",
    ")\n",
    "edges_data = Scatter3d(\n",
    "    x=universe.edges_coords('x'),\n",
    "    y=universe.edges_coords('y'),\n",
    "    z=universe.edges_coords('z'),\n",
    "    mode='lines',\n",
    "    line=Line(color='#F11', width=1),\n",
    "    hoverinfo='none',\n",
    ")\n",
    "fig = Figure(\n",
    "    data=Data([nodes_data, edges_data]),\n",
    "    layout=Layout(\n",
    "        title='Universe'\n",
    "    )\n",
    ")\n",
    "offline.iplot(fig)"
   ]
  }
 ],
 "metadata": {
  "kernelspec": {
   "display_name": "Python 3",
   "language": "python",
   "name": "python3"
  },
  "language_info": {
   "codemirror_mode": {
    "name": "ipython",
    "version": 3
   },
   "file_extension": ".py",
   "mimetype": "text/x-python",
   "name": "python",
   "nbconvert_exporter": "python",
   "pygments_lexer": "ipython3",
   "version": "3.5.2"
  }
 },
 "nbformat": 4,
 "nbformat_minor": 2
}
